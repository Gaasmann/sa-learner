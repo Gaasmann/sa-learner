{
 "cells": [
  {
   "cell_type": "code",
   "execution_count": 25,
   "metadata": {
    "collapsed": true
   },
   "outputs": [],
   "source": [
    "import importer\n",
    "import tensorflow as tf\n",
    "import pickle\n",
    "import numpy as np\n",
    "import sys\n",
    "import utils\n",
    "import matplotlib as mpl\n",
    "import matplotlib.pyplot as plt"
   ]
  },
  {
   "cell_type": "code",
   "execution_count": 26,
   "metadata": {
    "collapsed": true
   },
   "outputs": [],
   "source": [
    "# import pickle\n",
    "with open('data.pickle', 'rb') as file_handler:\n",
    "    data = pickle.load(file_handler)"
   ]
  },
  {
   "cell_type": "code",
   "execution_count": 27,
   "metadata": {
    "collapsed": false
   },
   "outputs": [
    {
     "data": {
      "text/plain": [
       "{'filename': array(['1445267970.48394_2.daedalus.boiteameuh.org',\n",
       "        '1423882957.56155_2.daedalus.boiteameuh.org',\n",
       "        '1437951776.26567_2.daedalus.boiteameuh.org', ...,\n",
       "        '1390309358.70628_1.leviathan.boiteameuh.org',\n",
       "        '1390305199.53275_1.leviathan.boiteameuh.org',\n",
       "        '1390337634.86743_1.leviathan.boiteameuh.org'], \n",
       "       dtype='<U69'),\n",
       " 'hot-ones': array([[ True,  True,  True, ..., False, False, False],\n",
       "        [ True,  True,  True, ..., False, False, False],\n",
       "        [ True, False,  True, ..., False, False, False],\n",
       "        ..., \n",
       "        [False, False, False, ..., False, False, False],\n",
       "        [False, False, False, ..., False, False, False],\n",
       "        [False, False, False, ..., False, False, False]], dtype=bool),\n",
       " 'labels': array([False, False, False, ..., False, False, False], dtype=bool),\n",
       " 'messageid': array(['<15080aedee2.38a2.2757308@ismtpd-075>',\n",
       "        '<6e95ee8d709029b0dd088a2657ece068@async.facebook.com>',\n",
       "        '<AD.2D.23363.E2765B55@rs-ord-mta07-1.smtp.com>', ...,\n",
       "        '<52DE6F51.2000808@opendoc.net>', '<52DE5F08.1070804@opendoc.net>',\n",
       "        '<52DEDDCA.6020206@opendoc.net>'], dtype=object)}"
      ]
     },
     "execution_count": 27,
     "metadata": {},
     "output_type": "execute_result"
    }
   ],
   "source": [
    "data"
   ]
  },
  {
   "cell_type": "code",
   "execution_count": 28,
   "metadata": {
    "collapsed": false
   },
   "outputs": [
    {
     "data": {
      "text/plain": [
       "(76300, 1)"
      ]
     },
     "execution_count": 28,
     "metadata": {},
     "output_type": "execute_result"
    }
   ],
   "source": [
    "(data['labels'][:,np.newaxis]).shape"
   ]
  },
  {
   "cell_type": "code",
   "execution_count": 41,
   "metadata": {
    "collapsed": false
   },
   "outputs": [],
   "source": [
    "class SALearner:\n",
    "    def __init__(self, data, learning_rate):\n",
    "        # extract data\n",
    "        # TODO rename filename to filenames\n",
    "        self.filenames = data['filename']\n",
    "        # TODO rename messageid to messageids\n",
    "        self.messageids = data['messageid']\n",
    "        # TODO check the names hot-ones\n",
    "        self.dataset = data['hot-ones'].astype(np.float32)\n",
    "        # TODO return a real column vector on importer\n",
    "        self.labels = data['labels'][:,np.newaxis].astype(np.float32)\n",
    "        # description variables\n",
    "        self.nb_ind = data['hot-ones'].shape[0]\n",
    "        self.ind_size = data['hot-ones'].shape[1]\n",
    "        # Variables learned\n",
    "        self.tf_weights = None\n",
    "        self.tf_bias = None\n",
    "        # Hyperparameters\n",
    "        self.learning_rate = learning_rate\n",
    "        # Training stats\n",
    "        self.cost_data = utils.MAAcumulator(1)\n",
    "        self.accuracy_data = utils.MAAcumulator(1)\n",
    "        \n",
    "    def init_graph(self):\n",
    "        tf.reset_default_graph()\n",
    "        # data\n",
    "        tf_data = tf.placeholder(tf.float32, name='data')\n",
    "        tf_labels = tf.placeholder(tf.float32, name='labels')\n",
    "        # weights and bias\n",
    "        self.tf_weights = tf.Variable(tf.truncated_normal([self.ind_size, 1]))\n",
    "        self.tf_bias = tf.Variable(tf.zeros([1,1]))\n",
    "        # Compute the unit unit\n",
    "        tf_z = tf.matmul(tf_data, self.tf_weights) + self.tf_bias #z.shape -> [ind_size,1]\n",
    "        tf_h = tf.sigmoid(tf_z)\n",
    "        \n",
    "        self.tf_regu = tf.reduce_mean(tf.multiply(self.tf_weights, self.tf_weights)) * 1e-7\n",
    "        self.tf_cost_function = tf.reduce_mean(tf_labels * -tf.log(tf.clip_by_value(tf_h,1e-10, 1)) + \\\n",
    "                                               (1 - tf_labels) * -tf.log(tf.clip_by_value(1 - tf_h, 1e-10, 1))) + \\\n",
    "                                                self.tf_regu\n",
    "        # accuracy & details\n",
    "        tf_decision_vector = tf.round(tf_h)\n",
    "        tf_correct_prediction = tf.equal(tf_labels, tf_decision_vector)\n",
    "        self.tf_accuracy = tf.reduce_mean(tf.cast(tf_correct_prediction, tf.float32)) * 100\n",
    "        # True positive\n",
    "        self.tf_tp = tf.reduce_mean(tf.cast(tf.logical_and(tf.cast(tf_decision_vector, tf.bool),\n",
    "                                                           tf.cast(tf_labels, tf.bool)), tf.float32)) * 100\n",
    "        # True negative\n",
    "        self.tf_tn = tf.reduce_mean(tf.cast(tf.logical_not(tf.logical_or(tf.cast(tf_decision_vector, tf.bool),\n",
    "                                                           tf.cast(tf_labels, tf.bool))), tf.float32)) * 100\n",
    "        # false negative\n",
    "        self.tf_fn = tf.reduce_mean(tf.cast(tf.logical_and(tf.cast(tf_decision_vector, tf.bool),\n",
    "                                                           tf.logical_not(tf.cast(tf_labels, tf.bool))),\n",
    "                                            tf.float32)) * 100\n",
    "        # false positive (baad)\n",
    "        self.tf_fp = tf.reduce_mean(tf.cast(tf.logical_and(tf.logical_not(tf.cast(tf_decision_vector, tf.bool)),\n",
    "                                                           tf.cast(tf_labels, tf.bool)),\n",
    "                                            tf.float32)) * 100\n",
    "        \n",
    "        # GD\n",
    "        self.tf_train_step = tf.train.GradientDescentOptimizer(self.learning_rate).minimize(self.tf_cost_function)\n",
    "        \n",
    "        self.tf_init = tf.global_variables_initializer()\n",
    "        \n",
    "    def learn(self, nb_cycle, info_every_cycle, quiet=False):\n",
    "        sess = tf.Session()\n",
    "        sess.run(self.tf_init)\n",
    "        # reset accumulators\n",
    "        self.cost_data.reset()\n",
    "        self.accuracy_data.reset()\n",
    "        # get placeholders\n",
    "        tf_data = tf.get_default_graph().get_tensor_by_name('data:0')\n",
    "        tf_labels = tf.get_default_graph().get_tensor_by_name('labels:0')\n",
    "\n",
    "        \n",
    "        for cycle in range(nb_cycle):\n",
    "            _, cost, acc, weights, bias, tp, tn, fp, fn, regu = sess.run([self.tf_train_step, self.tf_cost_function,\n",
    "                                                                          self.tf_accuracy, self.tf_weights,\n",
    "                                                                          self.tf_bias,\n",
    "                                                                          self.tf_tp, self.tf_tn,\n",
    "                                                                          self.tf_fp, self.tf_fn,self.tf_regu],\n",
    "                                                                        feed_dict={tf_data: self.dataset,\n",
    "                                                                                   tf_labels: self.labels})\n",
    "            # data accumulation\n",
    "            self.cost_data.add(cost)\n",
    "            self.accuracy_data.add(acc)\n",
    "            if (cycle+1) % info_every_cycle == 0 and not quiet:\n",
    "                # Console printing\n",
    "                print('-' * 10)\n",
    "                print('cycle: {}'.format(cycle))\n",
    "                print('cost: {}'.format(cost))\n",
    "                print('regu: {}'.format(regu))\n",
    "                print('accuracy: {}%'.format(acc))\n",
    "                print('true positive: {}%'.format(tp))\n",
    "                print('true negative: {}%'.format(tn))\n",
    "                print('false positive: {}%'.format(fp))\n",
    "                print('false negative: {}%'.format(fn))\n",
    "                sys.stdout.flush()\n",
    "        "
   ]
  },
  {
   "cell_type": "code",
   "execution_count": 42,
   "metadata": {
    "collapsed": false
   },
   "outputs": [],
   "source": [
    "sa_learner = SALearner(data, 30)"
   ]
  },
  {
   "cell_type": "code",
   "execution_count": 43,
   "metadata": {
    "collapsed": false
   },
   "outputs": [],
   "source": [
    "sa_learner.init_graph()\n",
    "sa_learner.learn(200,20,True)"
   ]
  },
  {
   "cell_type": "code",
   "execution_count": 44,
   "metadata": {
    "collapsed": false
   },
   "outputs": [
    {
     "data": {
      "image/png": "[encoded data removed]",
      "text/plain": [
       "<matplotlib.figure.Figure at 0x7f0582c1e668>"
      ]
     },
     "metadata": {},
     "output_type": "display_data"
    }
   ],
   "source": [
    "%matplotlib inline\n",
    "mpl.rcParams['figure.figsize'] = (20.0, 8.0)\n",
    "f, axarr = plt.subplots(1,2)\n",
    "# cost\n",
    "axarr[0].plot(sa_learner.cost_data.data)\n",
    "axarr[0].set_title('cost evolution during training')\n",
    "axarr[0].set_ylim(0.0,0.18)\n",
    "# accuracy\n",
    "axarr[1].plot(sa_learner.accuracy_data.data)\n",
    "axarr[1].set_title('accuracy evolution during training')\n",
    "axarr[1].set_ylim(95.0,98.0)\n",
    "plt.show()"
   ]
  },
  {
   "cell_type": "code",
   "execution_count": null,
   "metadata": {
    "collapsed": true
   },
   "outputs": [],
   "source": []
  }
 ],
 "metadata": {
  "kernelspec": {
   "display_name": "Python 3",
   "language": "python",
   "name": "python3"
  },
  "language_info": {
   "codemirror_mode": {
    "name": "ipython",
    "version": 3
   },
   "file_extension": ".py",
   "mimetype": "text/x-python",
   "name": "python",
   "nbconvert_exporter": "python",
   "pygments_lexer": "ipython3",
   "version": "3.5.3"
  }
 },
 "nbformat": 4,
 "nbformat_minor": 2
}
