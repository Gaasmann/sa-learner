{
 "cells": [
  {
   "cell_type": "code",
   "execution_count": 1,
   "metadata": {
    "collapsed": true
   },
   "outputs": [],
   "source": [
    "import importer\n",
    "import tensorflow as tf\n",
    "import pickle\n",
    "import numpy as np"
   ]
  },
  {
   "cell_type": "code",
   "execution_count": 2,
   "metadata": {
    "collapsed": true
   },
   "outputs": [],
   "source": [
    "# import pickle\n",
    "with open('data.pickle', 'rb') as file_handler:\n",
    "    data = pickle.load(file_handler)"
   ]
  },
  {
   "cell_type": "code",
   "execution_count": 3,
   "metadata": {
    "collapsed": false
   },
   "outputs": [
    {
     "data": {
      "text/plain": [
       "{'filename': array(['1445267970.48394_2.daedalus.boiteameuh.org',\n",
       "        '1423882957.56155_2.daedalus.boiteameuh.org',\n",
       "        '1437951776.26567_2.daedalus.boiteameuh.org', ...,\n",
       "        '1390309358.70628_1.leviathan.boiteameuh.org',\n",
       "        '1390305199.53275_1.leviathan.boiteameuh.org',\n",
       "        '1390337634.86743_1.leviathan.boiteameuh.org'], \n",
       "       dtype='<U69'),\n",
       " 'hot-ones': array([[ True,  True,  True, ..., False, False, False],\n",
       "        [ True,  True,  True, ..., False, False, False],\n",
       "        [ True, False,  True, ..., False, False, False],\n",
       "        ..., \n",
       "        [False, False, False, ..., False, False, False],\n",
       "        [False, False, False, ..., False, False, False],\n",
       "        [False, False, False, ..., False, False, False]], dtype=bool),\n",
       " 'labels': array([False, False, False, ..., False, False, False], dtype=bool),\n",
       " 'messageid': array(['<15080aedee2.38a2.2757308@ismtpd-075>',\n",
       "        '<6e95ee8d709029b0dd088a2657ece068@async.facebook.com>',\n",
       "        '<AD.2D.23363.E2765B55@rs-ord-mta07-1.smtp.com>', ...,\n",
       "        '<52DE6F51.2000808@opendoc.net>', '<52DE5F08.1070804@opendoc.net>',\n",
       "        '<52DEDDCA.6020206@opendoc.net>'], dtype=object)}"
      ]
     },
     "execution_count": 3,
     "metadata": {},
     "output_type": "execute_result"
    }
   ],
   "source": [
    "data"
   ]
  },
  {
   "cell_type": "code",
   "execution_count": 4,
   "metadata": {
    "collapsed": false
   },
   "outputs": [
    {
     "data": {
      "text/plain": [
       "(76300, 1)"
      ]
     },
     "execution_count": 4,
     "metadata": {},
     "output_type": "execute_result"
    }
   ],
   "source": [
    "(data['labels'][:,np.newaxis]).shape"
   ]
  },
  {
   "cell_type": "code",
   "execution_count": 5,
   "metadata": {
    "collapsed": false
   },
   "outputs": [],
   "source": [
    "class SALearner:\n",
    "    def __init__(self, data, learning_rate):\n",
    "        # extract data\n",
    "        # TODO rename filename to filenames\n",
    "        self.filenames = data['filename']\n",
    "        # TODO rename messageid to messageids\n",
    "        self.messageids = data['messageid']\n",
    "        # TODO check the names hot-ones\n",
    "        self.dataset = data['hot-ones'].astype(np.float32)\n",
    "        # TODO return a real column vector on importer\n",
    "        self.labels = data['labels'][:,np.newaxis].astype(np.float32)\n",
    "        # description variables\n",
    "        self.nb_ind = data['hot-ones'].shape[0]\n",
    "        self.ind_size = data['hot-ones'].shape[1]\n",
    "        # Variables learned\n",
    "        self.tf_weights = None\n",
    "        self.tf_bias = None\n",
    "        # data and labels\n",
    "        self.tf_data = None\n",
    "        self.tf_labels = None\n",
    "        # unit result\n",
    "        self.tf_z = None\n",
    "        self.tf_h = None\n",
    "        # Hyperparameters\n",
    "        self.learning_rate = learning_rate\n",
    "        \n",
    "    def init_graph(self):\n",
    "        tf.reset_default_graph()\n",
    "        # data\n",
    "        self.tf_data = tf.placeholder(tf.float32)\n",
    "        self.tf_labels = tf.placeholder(tf.float32)\n",
    "        # weights and bias\n",
    "        self.tf_weights = tf.Variable(tf.truncated_normal([self.ind_size, 1]))\n",
    "        self.tf_bias = tf.Variable(tf.zeros([1,1]))\n",
    "        # Compute the unit unit\n",
    "        self.tf_z = tf.matmul(self.tf_data, self.tf_weights) + self.tf_bias #z.shape -> [ind_size,1]\n",
    "        self.tf_h = tf.sigmoid(self.tf_z)\n",
    "        \n",
    "        #self.tf_cost_function = tf.reduce_mean(tf.nn.sigmoid_cross_entropy_with_logits(logits=self.tf_z, labels=self.tf_labels))\n",
    "        self.tf_log = -tf.log(self.tf_h)\n",
    "        self.tf_first_part = tf.multiply(self.tf_labels, -tf.log(self.tf_h))\n",
    "        self.tf_cost_function = tf.reduce_mean(self.tf_labels * -tf.log(tf.clip_by_value(self.tf_h,1e-10, 1)) + \\\n",
    "                                               (1 - self.tf_labels) * -tf.log(tf.clip_by_value(1 - self.tf_h, 1e-10, 1)))\n",
    "        tf_decision_vector = tf.round(self.tf_h)\n",
    "        self.tf_correct_prediction = tf.equal(self.tf_labels, tf_decision_vector)\n",
    "        self.tf_accuracy = tf.reduce_mean(tf.cast(self.tf_correct_prediction, tf.float32)) * 100\n",
    "        \n",
    "        # GD\n",
    "        self.tf_train_step = tf.train.GradientDescentOptimizer(self.learning_rate).minimize(self.tf_cost_function)\n",
    "        \n",
    "        self.tf_init = tf.global_variables_initializer()\n",
    "        \n",
    "    def learn(self, nb_cycle, info_every_cycle):\n",
    "        sess = tf.Session()\n",
    "        sess.run(self.tf_init)\n",
    "        \n",
    "        for cycle in range(nb_cycle):\n",
    "            _, cost, acc, z, data, labels, weights, bias, log, fp, h = sess.run([self.tf_train_step, self.tf_cost_function,\n",
    "                                                                              self.tf_accuracy, self.tf_z, self.tf_data,\n",
    "                                                                              self.tf_labels, self.tf_weights,\n",
    "                                                                              self.tf_bias, self.tf_log,\n",
    "                                                                              self.tf_first_part, self.tf_h],\n",
    "                                feed_dict={self.tf_data: self.dataset,\n",
    "                                           self.tf_labels: self.labels})\n",
    "            if cycle % info_every_cycle == 0:\n",
    "                print('-' * 10)\n",
    "                print('cycle: {}'.format(cycle))\n",
    "                print('cost: {}'.format(cost))\n",
    "                print('accuracy: {}%'.format(acc))\n",
    "                #print('label shape: {}'.format(labels.shape))\n",
    "                #print('-log(h): {}'.format(log.shape))\n",
    "                #print('fp: {}'.format(fp.shape))\n",
    "                print(bias)\n",
    "                print(weights[0:10,0])\n",
    "                print(z[0:10,0])\n",
    "                print(h[0:10,0])\n",
    "                print(labels[0:10,0])\n",
    "        "
   ]
  },
  {
   "cell_type": "code",
   "execution_count": null,
   "metadata": {
    "collapsed": false
   },
   "outputs": [],
   "source": [
    "sa_learner = SALearner(data, 0.1)"
   ]
  },
  {
   "cell_type": "code",
   "execution_count": null,
   "metadata": {
    "collapsed": false
   },
   "outputs": [
    {
     "name": "stdout",
     "output_type": "stream",
     "text": [
      "----------\n",
      "cycle: 0\n",
      "cost: 1.554047703742981\n",
      "accuracy: 37.08649444580078%\n",
      "[[ 0.]]\n",
      "[ 0.18001024 -0.59290737 -1.64361894  0.58765608 -1.07210898  1.09030843\n",
      " -1.80362117  0.56327987 -1.01558781 -0.83570898]\n",
      "[-1.45066071 -6.71029282  0.20967126  1.33357847  0.47130972 -3.72580409\n",
      " -1.90820944 -1.30475938  1.55760324 -1.46886015]\n",
      "[ 0.18989991  0.00121682  0.5522266   0.79143196  0.61569375  0.02352687\n",
      "  0.12918214  0.21336511  0.82600915  0.18711592]\n",
      "[ 0.  0.  0.  0.  0.  0.  0.  0.  0.  0.]\n",
      "----------\n",
      "cycle: 20\n",
      "cost: 0.707513153553009\n",
      "accuracy: 61.216224670410156%\n",
      "[[-0.63048053]]\n",
      "[-0.42529926 -0.59853089 -1.69660652  0.54864019 -1.0733819   0.73163676\n",
      " -1.82200861  0.56346357 -1.00764871 -0.85162896]\n",
      "[-3.14402199 -8.04594707 -1.02976203 -1.09408295 -2.3660512  -5.17887688\n",
      " -4.30712891 -3.54588485 -0.23863077 -2.80227685]\n",
      "[  4.13274802e-02   3.20295221e-04   2.63130248e-01   2.50850201e-01\n",
      "   8.57983679e-02   5.60276303e-03   1.32930866e-02   2.80344896e-02\n",
      "   4.40623790e-01   5.72012626e-02]\n",
      "[ 0.  0.  0.  0.  0.  0.  0.  0.  0.  0.]\n",
      "----------\n",
      "cycle: 40\n",
      "cost: 0.49245476722717285\n",
      "accuracy: 85.41280364990234%\n",
      "[[-0.89610624]]\n",
      "[-0.71494752 -0.5325886  -1.6362586   0.55169976 -1.07081008  0.55967677\n",
      " -1.80734026  0.57750171 -0.99086177 -0.8456493 ]\n",
      "[-3.73933458 -8.39043045 -1.40024161 -2.13673472 -3.54303551 -5.7289753\n",
      " -5.28202248 -4.44478607 -1.0176909  -3.22820139]\n",
      "[  2.32180264e-02   2.26977994e-04   1.97777793e-01   1.05577335e-01\n",
      "   2.81122308e-02   3.23987519e-03   5.05644409e-03   1.16033982e-02\n",
      "   2.65477419e-01   3.81181389e-02]\n",
      "[ 0.  0.  0.  0.  0.  0.  0.  0.  0.  0.]\n",
      "----------\n",
      "cycle: 60\n",
      "cost: 0.4109286367893219\n",
      "accuracy: 88.77716064453125%\n",
      "[[-1.01729071]]\n",
      "[-0.87645584 -0.44948146 -1.55399382  0.56608349 -1.06741738  0.46566218\n",
      " -1.7844125   0.59447318 -0.9727025  -0.83466053]\n",
      "[-3.93289328 -8.3932476  -1.46689248 -2.62858391 -4.06718636 -5.95103312\n",
      " -5.69838619 -4.82680464 -1.38817608 -3.33113813]\n",
      "[ 0.01921064  0.00022634  0.18741541  0.06732131  0.01683716  0.00259639\n",
      "  0.00334018  0.0079484   0.19969909  0.03451828]\n",
      "[ 0.  0.  0.  0.  0.  0.  0.  0.  0.  0.]\n",
      "----------\n",
      "cycle: 80\n",
      "cost: 0.36451244354248047\n",
      "accuracy: 89.92132568359375%\n",
      "[[-1.08131027]]\n",
      "[-0.98353451 -0.36620691 -1.46927214  0.58389413 -1.06380916  0.40364584\n",
      " -1.75907648  0.61218864 -0.95430756 -0.82226098]\n",
      "[-3.97659302 -8.27579308 -1.42495823 -2.89913583 -4.32983398 -6.04716682\n",
      " -5.89632607 -5.00341702 -1.59438586 -3.31642962]\n",
      "[ 0.01840434  0.00025454  0.19388548  0.0521963   0.01299855  0.00235897\n",
      "  0.00274199  0.00667017  0.16876774  0.03501184]\n",
      "[ 0.  0.  0.  0.  0.  0.  0.  0.  0.  0.]\n",
      "----------\n",
      "cycle: 100\n",
      "cost: 0.3324754238128662\n",
      "accuracy: 90.90430450439453%\n",
      "[[-1.11895669]]\n",
      "[-1.06243753 -0.28711808 -1.38726819  0.60261679 -1.06016612  0.35764676\n",
      " -1.73299348  0.63003975 -0.93597174 -0.80951977]\n",
      "[-3.95568323 -8.11145782 -1.3397584  -3.06382465 -4.46738529 -6.08618164\n",
      " -5.99355459 -5.08300686 -1.72244668 -3.25316381]\n",
      "[ 0.01878592  0.00029999  0.2075498   0.04462436  0.01134705  0.00226892\n",
      "  0.00248857  0.00616302  0.1515563   0.03721337]\n",
      "[ 0.  0.  0.  0.  0.  0.  0.  0.  0.  0.]\n",
      "----------\n",
      "cycle: 120\n",
      "cost: 0.3082257807254791\n",
      "accuracy: 91.48487854003906%\n",
      "[[-1.14303744]]\n",
      "[-1.12455547 -0.21320981 -1.30953109  0.62120444 -1.05656111  0.32093248\n",
      " -1.70682716  0.64777833 -0.91781783 -0.79686826]\n",
      "[-3.90475798 -7.92931843 -1.23724771 -3.17109203 -4.53715944 -6.09639502\n",
      " -6.03862524 -5.11113262 -1.80846727 -3.16912937]\n",
      "[ 0.01974799  0.0003599   0.22491543  0.04026819  0.01059041  0.00224591\n",
      "  0.00237916  0.00599312  0.14082347  0.04034411]\n",
      "[ 0.  0.  0.  0.  0.  0.  0.  0.  0.  0.]\n",
      "----------\n",
      "cycle: 140\n",
      "cost: 0.28890460729599\n",
      "accuracy: 91.87939453125%\n",
      "[[-1.15967369]]\n",
      "[-1.17571759 -0.14446294 -1.23645043  0.63914955 -1.05302835  0.2901437\n",
      " -1.68090081  0.665277   -0.89991122 -0.784513  ]\n",
      "[-3.84003997 -7.74252892 -1.12921417 -3.24467707 -4.56736469 -6.09134722\n",
      " -6.05481958 -5.1101656  -1.87004113 -3.07715511]\n",
      "[ 0.02104053  0.00043378  0.24430616  0.03751863  0.01027855  0.00225725\n",
      "  0.00234103  0.00599888  0.13353696  0.04405948]\n",
      "[ 0.  0.  0.  0.  0.  0.  0.  0.  0.  0.]\n",
      "----------\n",
      "cycle: 160\n",
      "cost: 0.2730027139186859\n",
      "accuracy: 92.217529296875%\n",
      "[[-1.17208576]]\n",
      "[-1.21925533 -0.08054788 -1.16798067  0.65618926 -1.04958522  0.26339489\n",
      " -1.6553911   0.68246198 -0.88229197 -0.77256066]\n",
      "[-3.76987076 -7.55752563 -1.02145994 -3.29750943 -4.57346058 -6.07817745\n",
      " -6.05449963 -5.0922966  -1.91667151 -2.98368049]\n",
      "[ 0.02253549  0.00052189  0.26474312  0.03565673  0.01021672  0.00228711\n",
      "  0.00234178  0.00610638  0.12823319  0.0481686 ]\n",
      "[ 0.  0.  0.  0.  0.  0.  0.  0.  0.  0.]\n",
      "----------\n",
      "cycle: 180\n",
      "cost: 0.25961658358573914\n",
      "accuracy: 92.41410827636719%\n",
      "[[-1.18208408]]\n",
      "[-1.25723362 -0.02105431 -1.10390759  0.67218804 -1.0462389   0.23953623\n",
      " -1.63039684  0.69928944 -0.86498362 -0.76106715]\n",
      "[-3.69879413 -7.37756729 -0.91696239 -3.33716846 -4.56456184 -6.06090498\n",
      " -6.0447073  -5.06464481 -1.95387173 -2.89209151]\n",
      "[ 0.02415543  0.00062473  0.28557721  0.03431787  0.0103071   0.00232686\n",
      "  0.00236477  0.00627651  0.12413181  0.05254589]\n",
      "[ 0.  0.  0.  0.  0.  0.  0.  0.  0.  0.]\n",
      "----------\n",
      "cycle: 200\n",
      "cost: 0.24815872311592102\n",
      "accuracy: 92.6958999633789%\n",
      "[[-1.19073248]]\n",
      "[-1.29101014  0.03442203 -1.04397047  0.68708318 -1.04299307  0.2178251\n",
      " -1.60597467  0.71573341 -0.84799981 -0.75005871]\n",
      "[-3.6293757  -7.20430994 -0.81726521 -3.3683517  -4.54635096 -6.04191017\n",
      " -6.02967072 -5.03159714 -1.9850204  -2.8042078 ]\n",
      "[ 0.02584695  0.00074282  0.30634448  0.03329933  0.01049453  0.00237138\n",
      "  0.00240051  0.00648603  0.12078468  0.05709722]\n",
      "[ 0.  0.  0.  0.  0.  0.  0.  0.  0.  0.]\n",
      "----------\n",
      "cycle: 220\n",
      "cost: 0.23822318017482758\n",
      "accuracy: 92.90953063964844%\n",
      "[[-1.1986711]]\n",
      "[-1.32151127  0.08625749 -0.98788995  0.70085639 -1.03984809  0.19776011\n",
      " -1.58215296  0.73178083 -0.83134604 -0.73954409]\n",
      "[-3.56304646 -7.03850651 -0.72310627 -3.3940556  -4.52246475 -6.02261543\n",
      " -6.01198101 -4.99590826 -2.01224875 -2.72095847]\n",
      "[ 0.02757063  0.00087667  0.32670933  0.03248176  0.0107455   0.00241746\n",
      "  0.00244325  0.00672011  0.11792286  0.06174792]\n",
      "[ 0.  0.  0.  0.  0.  0.  0.  0.  0.  0.]\n",
      "----------\n",
      "cycle: 240\n",
      "cost: 0.22951634228229523\n",
      "accuracy: 93.17296600341797%\n",
      "[[-1.20629048]]\n",
      "[-1.3493942   0.13479203 -0.93538284  0.71351761 -1.03680229  0.17899147\n",
      " -1.55894327  0.74742687 -0.81502253 -0.7295205 ]\n",
      "[-3.50056863 -6.8803978  -0.63475871 -3.41623664 -4.4952898  -6.00387001\n",
      " -5.99325085 -4.95933867 -2.03692794 -2.64275789]\n",
      "[ 0.02929606  0.00102668  0.34643227  0.03179187  0.01103824  0.0024631\n",
      "  0.00248933  0.00696866  0.11537993  0.06643678]\n",
      "[ 0.  0.  0.  0.  0.  0.  0.  0.  0.  0.]\n"
     ]
    }
   ],
   "source": [
    "sa_learner.init_graph()\n",
    "sa_learner.learn(100000,20)"
   ]
  },
  {
   "cell_type": "code",
   "execution_count": null,
   "metadata": {
    "collapsed": true
   },
   "outputs": [],
   "source": []
  }
 ],
 "metadata": {
  "kernelspec": {
   "display_name": "Python 3",
   "language": "python",
   "name": "python3"
  },
  "language_info": {
   "codemirror_mode": {
    "name": "ipython",
    "version": 3
   },
   "file_extension": ".py",
   "mimetype": "text/x-python",
   "name": "python",
   "nbconvert_exporter": "python",
   "pygments_lexer": "ipython3",
   "version": "3.5.3"
  }
 },
 "nbformat": 4,
 "nbformat_minor": 2
}
